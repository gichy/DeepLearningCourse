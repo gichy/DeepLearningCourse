{
 "cells": [
  {
   "cell_type": "code",
   "execution_count": 14,
   "metadata": {
    "collapsed": true
   },
   "outputs": [],
   "source": [
    "import numpy as np\n",
    "def graded_zero_vector(length):\n",
    "    return(np.zeros(length))\n",
    "import math\n",
    "def graded_vec_i(length):\n",
    "    ### Start code here\n",
    "    return([math.factorial(i+1) for i in range(length)])\n",
    "\n",
    "\n",
    "\n",
    "def graded_generate_pauli():\n",
    "    ### Start code here\n",
    "    pauliX = np.matrix([[0, 1], [1, 0]])\n",
    "    pauliY = np.matrix([[0, -0.j], [0.j, 0]])\n",
    "    pauliZ = np.matrix([[1, 0], [0, -1]]) \n",
    "    ### End code here\n",
    "    return(pauliX, pauliY, pauliZ)\n",
    "\n",
    "\n",
    "def graded_pauli_check(coordinate): # coordinate can be 'X', 'Y' or 'Z'    \n",
    "    coord_index_map = {'X':0, 'Y':1, 'Z':2}\n",
    "    pauli_index = coord_index_map[coordinate]\n",
    "    ### Start code here\n",
    "    \n",
    "    #retreive the corresponding Pauli matrix (use the function above)\n",
    "    pauliMatrix = graded_generate_pauli()[pauli_index]\n",
    "    \n",
    "    # calculate its determinant\n",
    "    det = np.linalg.det(pauliMatrix)\n",
    "\n",
    "    # calculate its square\n",
    "    square = np.matmul(pauliMatrix, pauliMatrix)\n",
    "\n",
    "    # calculate its trace\n",
    "    trace = np.trace(pauliMatrix)\n",
    "    ### End code here\n",
    "    return(det, square, trace)"
   ]
  },
  {
   "cell_type": "code",
   "execution_count": 2,
   "metadata": {
    "collapsed": false
   },
   "outputs": [
    {
     "data": {
      "text/plain": [
       "array([ 0.,  0.,  0.,  0.,  0.])"
      ]
     },
     "execution_count": 2,
     "metadata": {},
     "output_type": "execute_result"
    }
   ],
   "source": [
    "graded_zero_vector(5)"
   ]
  },
  {
   "cell_type": "code",
   "execution_count": 3,
   "metadata": {
    "collapsed": false
   },
   "outputs": [
    {
     "data": {
      "text/plain": [
       "[1, 2, 6, 24, 120, 720]"
      ]
     },
     "execution_count": 3,
     "metadata": {},
     "output_type": "execute_result"
    }
   ],
   "source": [
    "graded_vec_i(6)"
   ]
  },
  {
   "cell_type": "code",
   "execution_count": 10,
   "metadata": {
    "collapsed": false
   },
   "outputs": [
    {
     "data": {
      "text/plain": [
       "(matrix([[0, 1],\n",
       "         [1, 0]]), matrix([[ 0.+0.j, -0.-0.j],\n",
       "         [ 0.+0.j,  0.+0.j]]), matrix([[ 1,  0],\n",
       "         [ 0, -1]]))"
      ]
     },
     "execution_count": 10,
     "metadata": {},
     "output_type": "execute_result"
    }
   ],
   "source": [
    "graded_generate_pauli()"
   ]
  },
  {
   "cell_type": "code",
   "execution_count": 16,
   "metadata": {
    "collapsed": false
   },
   "outputs": [
    {
     "data": {
      "text/plain": [
       "(-1.0, matrix([[1, 0],\n",
       "         [0, 1]]), 0)"
      ]
     },
     "execution_count": 16,
     "metadata": {},
     "output_type": "execute_result"
    }
   ],
   "source": [
    "graded_pauli_check(\"Z\")"
   ]
  },
  {
   "cell_type": "code",
   "execution_count": null,
   "metadata": {
    "collapsed": true
   },
   "outputs": [],
   "source": []
  }
 ],
 "metadata": {
  "kernelspec": {
   "display_name": "Python [Root]",
   "language": "python",
   "name": "Python [Root]"
  },
  "language_info": {
   "codemirror_mode": {
    "name": "ipython",
    "version": 3
   },
   "file_extension": ".py",
   "mimetype": "text/x-python",
   "name": "python",
   "nbconvert_exporter": "python",
   "pygments_lexer": "ipython3",
   "version": "3.5.2"
  }
 },
 "nbformat": 4,
 "nbformat_minor": 0
}
